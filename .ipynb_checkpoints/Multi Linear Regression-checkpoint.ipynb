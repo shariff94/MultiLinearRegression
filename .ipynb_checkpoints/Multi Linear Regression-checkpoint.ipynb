{
 "cells": [
  {
   "cell_type": "code",
   "execution_count": 1,
   "metadata": {},
   "outputs": [
    {
     "name": "stderr",
     "output_type": "stream",
     "text": [
      "Installing packages into 'C:/Users/Syed Shariff/Documents/R/win-library/3.6'\n",
      "(as 'lib' is unspecified)\n",
      "Warning message:\n",
      "\"packages 'gtool', 'pkg1', 'pkg2' are not available (for R version 3.6.1)\""
     ]
    },
    {
     "name": "stdout",
     "output_type": "stream",
     "text": [
      "package 'modes' successfully unpacked and MD5 sums checked\n",
      "\n",
      "The downloaded binary packages are in\n",
      "\tC:\\Users\\Syed Shariff\\AppData\\Local\\Temp\\RtmpawnG4L\\downloaded_packages\n"
     ]
    }
   ],
   "source": [
    "# install.packages(c('modes','gtool'))"
   ]
  },
  {
   "cell_type": "code",
   "execution_count": 2,
   "metadata": {},
   "outputs": [
    {
     "name": "stderr",
     "output_type": "stream",
     "text": [
      "Loading required package: lattice\n",
      "Loading required package: ggplot2\n",
      "Registered S3 methods overwritten by 'ggplot2':\n",
      "  method         from \n",
      "  [.quosures     rlang\n",
      "  c.quosures     rlang\n",
      "  print.quosures rlang\n",
      "Warning message:\n",
      "\"package 'dplyr' was built under R version 3.6.2\"\n",
      "Attaching package: 'dplyr'\n",
      "\n",
      "The following objects are masked from 'package:stats':\n",
      "\n",
      "    filter, lag\n",
      "\n",
      "The following objects are masked from 'package:base':\n",
      "\n",
      "    intersect, setdiff, setequal, union\n",
      "\n"
     ]
    }
   ],
   "source": [
    "# Loading the libraries\n",
    "\n",
    "library(modes)\n",
    "library(caret)\n",
    "library(dplyr)\n",
    "library(gtools)"
   ]
  },
  {
   "cell_type": "code",
   "execution_count": 3,
   "metadata": {},
   "outputs": [],
   "source": [
    "# loading data\n",
    "\n",
    "housing_data = read.csv('housing_data.csv',header=T)"
   ]
  },
  {
   "cell_type": "code",
   "execution_count": 4,
   "metadata": {},
   "outputs": [
    {
     "name": "stdout",
     "output_type": "stream",
     "text": [
      "'data.frame':\t500 obs. of  14 variables:\n",
      " $ CRIM : num  0.00632 0.02731 0.02729 0.03237 0.06905 ...\n",
      " $ ZN   : num  18 0 0 NA 0 0 12.5 12.5 12.5 12.5 ...\n",
      " $ INDUS: num  2.31 7.07 7.07 2.18 2.18 ...\n",
      " $ CHAS : int  0 0 0 0 0 0 0 0 0 0 ...\n",
      " $ NOX  : num  0.538 0.469 0.469 0.458 0.458 ...\n",
      " $ RM   : num  6.57 6.42 7.18 7 7.15 ...\n",
      " $ AGE  : num  65.2 78.9 61.1 45.8 54.2 ...\n",
      " $ DIS  : num  4.09 4.97 4.97 6.06 6.06 ...\n",
      " $ RAD  : int  1 2 2 3 3 3 5 5 5 5 ...\n",
      " $ TAX  : int  296 242 242 222 222 222 311 311 311 311 ...\n",
      " $ PT   : num  15.3 17.8 17.8 18.7 18.7 ...\n",
      " $ B    : num  NA 397 393 395 397 ...\n",
      " $ LSTAT: num  4.98 9.14 4.03 2.94 5.33 ...\n",
      " $ MV   : num  24 21.6 34.7 33.4 36.2 ...\n"
     ]
    }
   ],
   "source": [
    "# Structure of the data\n",
    "\n",
    "str(housing_data)"
   ]
  },
  {
   "cell_type": "markdown",
   "metadata": {},
   "source": [
    "### We need to convert categorical data to factor from int"
   ]
  },
  {
   "cell_type": "code",
   "execution_count": 6,
   "metadata": {},
   "outputs": [],
   "source": [
    "# CHAS is a categorical data\n",
    "housing_data$CHAS = as.factor(housing_data$CHAS)"
   ]
  },
  {
   "cell_type": "code",
   "execution_count": 8,
   "metadata": {},
   "outputs": [],
   "source": [
    "# RAD is ranking, which is categorical\n",
    "housing_data$RAD = as.factor(housing_data$RAD)"
   ]
  },
  {
   "cell_type": "code",
   "execution_count": 9,
   "metadata": {},
   "outputs": [
    {
     "name": "stdout",
     "output_type": "stream",
     "text": [
      "'data.frame':\t500 obs. of  14 variables:\n",
      " $ CRIM : num  0.00632 0.02731 0.02729 0.03237 0.06905 ...\n",
      " $ ZN   : num  18 0 0 NA 0 0 12.5 12.5 12.5 12.5 ...\n",
      " $ INDUS: num  2.31 7.07 7.07 2.18 2.18 ...\n",
      " $ CHAS : Factor w/ 2 levels \"0\",\"1\": 1 1 1 1 1 1 1 1 1 1 ...\n",
      " $ NOX  : num  0.538 0.469 0.469 0.458 0.458 ...\n",
      " $ RM   : num  6.57 6.42 7.18 7 7.15 ...\n",
      " $ AGE  : num  65.2 78.9 61.1 45.8 54.2 ...\n",
      " $ DIS  : num  4.09 4.97 4.97 6.06 6.06 ...\n",
      " $ RAD  : Factor w/ 9 levels \"1\",\"2\",\"3\",\"4\",..: 1 2 2 3 3 3 5 5 5 5 ...\n",
      " $ TAX  : int  296 242 242 222 222 222 311 311 311 311 ...\n",
      " $ PT   : num  15.3 17.8 17.8 18.7 18.7 ...\n",
      " $ B    : num  NA 397 393 395 397 ...\n",
      " $ LSTAT: num  4.98 9.14 4.03 2.94 5.33 ...\n",
      " $ MV   : num  24 21.6 34.7 33.4 36.2 ...\n"
     ]
    }
   ],
   "source": [
    "str(housing_data)"
   ]
  },
  {
   "cell_type": "code",
   "execution_count": 20,
   "metadata": {},
   "outputs": [
    {
     "data": {
      "text/html": [
       "<table>\n",
       "<thead><tr><th scope=col>CRIM</th><th scope=col>ZN</th><th scope=col>INDUS</th><th scope=col>CHAS</th><th scope=col>NOX</th><th scope=col>RM</th><th scope=col>AGE</th><th scope=col>DIS</th><th scope=col>RAD</th><th scope=col>TAX</th><th scope=col>PT</th><th scope=col>B</th><th scope=col>LSTAT</th><th scope=col>MV</th></tr></thead>\n",
       "<tbody>\n",
       "\t<tr><td>0.00632</td><td>18     </td><td>2.31   </td><td>0      </td><td>0.538  </td><td>6.575  </td><td>65.2   </td><td>4.0900 </td><td>1      </td><td>296    </td><td>15.3   </td><td>    NA </td><td>4.98   </td><td>24.0   </td></tr>\n",
       "\t<tr><td>0.02731</td><td> 0     </td><td>7.07   </td><td>0      </td><td>0.469  </td><td>6.421  </td><td>78.9   </td><td>4.9671 </td><td>2      </td><td>242    </td><td>17.8   </td><td>396.90 </td><td>9.14   </td><td>21.6   </td></tr>\n",
       "\t<tr><td>0.02729</td><td> 0     </td><td>7.07   </td><td>0      </td><td>0.469  </td><td>7.185  </td><td>61.1   </td><td>4.9671 </td><td>2      </td><td>242    </td><td>17.8   </td><td>392.83 </td><td>4.03   </td><td>34.7   </td></tr>\n",
       "\t<tr><td>0.03237</td><td>NA     </td><td>2.18   </td><td>0      </td><td>0.458  </td><td>6.998  </td><td>45.8   </td><td>6.0622 </td><td>3      </td><td>222    </td><td>18.7   </td><td>394.63 </td><td>2.94   </td><td>33.4   </td></tr>\n",
       "\t<tr><td>0.06905</td><td> 0     </td><td>2.18   </td><td>0      </td><td>0.458  </td><td>7.147  </td><td>54.2   </td><td>6.0622 </td><td>3      </td><td>222    </td><td>18.7   </td><td>396.90 </td><td>5.33   </td><td>36.2   </td></tr>\n",
       "\t<tr><td>0.02985</td><td> 0     </td><td>2.18   </td><td>0      </td><td>0.458  </td><td>6.430  </td><td>58.7   </td><td>6.0622 </td><td>3      </td><td>222    </td><td>18.7   </td><td>394.12 </td><td>5.21   </td><td>28.7   </td></tr>\n",
       "</tbody>\n",
       "</table>\n"
      ],
      "text/latex": [
       "\\begin{tabular}{r|llllllllllllll}\n",
       " CRIM & ZN & INDUS & CHAS & NOX & RM & AGE & DIS & RAD & TAX & PT & B & LSTAT & MV\\\\\n",
       "\\hline\n",
       "\t 0.00632 & 18      & 2.31    & 0       & 0.538   & 6.575   & 65.2    & 4.0900  & 1       & 296     & 15.3    &     NA  & 4.98    & 24.0   \\\\\n",
       "\t 0.02731 &  0      & 7.07    & 0       & 0.469   & 6.421   & 78.9    & 4.9671  & 2       & 242     & 17.8    & 396.90  & 9.14    & 21.6   \\\\\n",
       "\t 0.02729 &  0      & 7.07    & 0       & 0.469   & 7.185   & 61.1    & 4.9671  & 2       & 242     & 17.8    & 392.83  & 4.03    & 34.7   \\\\\n",
       "\t 0.03237 & NA      & 2.18    & 0       & 0.458   & 6.998   & 45.8    & 6.0622  & 3       & 222     & 18.7    & 394.63  & 2.94    & 33.4   \\\\\n",
       "\t 0.06905 &  0      & 2.18    & 0       & 0.458   & 7.147   & 54.2    & 6.0622  & 3       & 222     & 18.7    & 396.90  & 5.33    & 36.2   \\\\\n",
       "\t 0.02985 &  0      & 2.18    & 0       & 0.458   & 6.430   & 58.7    & 6.0622  & 3       & 222     & 18.7    & 394.12  & 5.21    & 28.7   \\\\\n",
       "\\end{tabular}\n"
      ],
      "text/markdown": [
       "\n",
       "| CRIM | ZN | INDUS | CHAS | NOX | RM | AGE | DIS | RAD | TAX | PT | B | LSTAT | MV |\n",
       "|---|---|---|---|---|---|---|---|---|---|---|---|---|---|\n",
       "| 0.00632 | 18      | 2.31    | 0       | 0.538   | 6.575   | 65.2    | 4.0900  | 1       | 296     | 15.3    |     NA  | 4.98    | 24.0    |\n",
       "| 0.02731 |  0      | 7.07    | 0       | 0.469   | 6.421   | 78.9    | 4.9671  | 2       | 242     | 17.8    | 396.90  | 9.14    | 21.6    |\n",
       "| 0.02729 |  0      | 7.07    | 0       | 0.469   | 7.185   | 61.1    | 4.9671  | 2       | 242     | 17.8    | 392.83  | 4.03    | 34.7    |\n",
       "| 0.03237 | NA      | 2.18    | 0       | 0.458   | 6.998   | 45.8    | 6.0622  | 3       | 222     | 18.7    | 394.63  | 2.94    | 33.4    |\n",
       "| 0.06905 |  0      | 2.18    | 0       | 0.458   | 7.147   | 54.2    | 6.0622  | 3       | 222     | 18.7    | 396.90  | 5.33    | 36.2    |\n",
       "| 0.02985 |  0      | 2.18    | 0       | 0.458   | 6.430   | 58.7    | 6.0622  | 3       | 222     | 18.7    | 394.12  | 5.21    | 28.7    |\n",
       "\n"
      ],
      "text/plain": [
       "  CRIM    ZN INDUS CHAS NOX   RM    AGE  DIS    RAD TAX PT   B      LSTAT MV  \n",
       "1 0.00632 18 2.31  0    0.538 6.575 65.2 4.0900 1   296 15.3     NA 4.98  24.0\n",
       "2 0.02731  0 7.07  0    0.469 6.421 78.9 4.9671 2   242 17.8 396.90 9.14  21.6\n",
       "3 0.02729  0 7.07  0    0.469 7.185 61.1 4.9671 2   242 17.8 392.83 4.03  34.7\n",
       "4 0.03237 NA 2.18  0    0.458 6.998 45.8 6.0622 3   222 18.7 394.63 2.94  33.4\n",
       "5 0.06905  0 2.18  0    0.458 7.147 54.2 6.0622 3   222 18.7 396.90 5.33  36.2\n",
       "6 0.02985  0 2.18  0    0.458 6.430 58.7 6.0622 3   222 18.7 394.12 5.21  28.7"
      ]
     },
     "metadata": {},
     "output_type": "display_data"
    }
   ],
   "source": [
    "# display the top 6 rows\n",
    "head(housing_data)"
   ]
  },
  {
   "cell_type": "code",
   "execution_count": 11,
   "metadata": {},
   "outputs": [
    {
     "data": {
      "text/html": [
       "<table>\n",
       "<thead><tr><th></th><th scope=col>CRIM</th><th scope=col>ZN</th><th scope=col>INDUS</th><th scope=col>CHAS</th><th scope=col>NOX</th><th scope=col>RM</th><th scope=col>AGE</th><th scope=col>DIS</th><th scope=col>RAD</th><th scope=col>TAX</th><th scope=col>PT</th><th scope=col>B</th><th scope=col>LSTAT</th><th scope=col>MV</th></tr></thead>\n",
       "<tbody>\n",
       "\t<tr><th scope=row>495</th><td>0.22438</td><td>0      </td><td> 9.69  </td><td>0      </td><td>0.585  </td><td>6.027  </td><td>79.7   </td><td>2.4982 </td><td>6      </td><td>391    </td><td>19.2   </td><td>396.90 </td><td>14.33  </td><td>16.8   </td></tr>\n",
       "\t<tr><th scope=row>496</th><td>0.06263</td><td>0      </td><td>11.93  </td><td>0      </td><td>0.573  </td><td>6.593  </td><td>69.1   </td><td>2.4786 </td><td>1      </td><td>273    </td><td>21.0   </td><td>391.99 </td><td> 9.67  </td><td>22.4   </td></tr>\n",
       "\t<tr><th scope=row>497</th><td>0.04527</td><td>0      </td><td>11.93  </td><td>0      </td><td>0.573  </td><td>6.120  </td><td>76.7   </td><td>2.2875 </td><td>1      </td><td>273    </td><td>21.0   </td><td>396.90 </td><td> 9.08  </td><td>20.6   </td></tr>\n",
       "\t<tr><th scope=row>498</th><td>0.06076</td><td>0      </td><td>11.93  </td><td>0      </td><td>   NA  </td><td>6.976  </td><td>91.0   </td><td>2.1675 </td><td>1      </td><td>273    </td><td>21.0   </td><td>396.90 </td><td> 5.64  </td><td>23.9   </td></tr>\n",
       "\t<tr><th scope=row>499</th><td>0.10959</td><td>0      </td><td>11.93  </td><td>0      </td><td>0.573  </td><td>6.794  </td><td>89.3   </td><td>2.3889 </td><td>1      </td><td>273    </td><td>21.0   </td><td>393.45 </td><td> 6.48  </td><td>22.0   </td></tr>\n",
       "\t<tr><th scope=row>500</th><td>0.04741</td><td>0      </td><td>11.93  </td><td>0      </td><td>0.573  </td><td>6.030  </td><td>80.8   </td><td>2.5050 </td><td>1      </td><td>273    </td><td>21.0   </td><td>396.90 </td><td> 7.88  </td><td>11.9   </td></tr>\n",
       "</tbody>\n",
       "</table>\n"
      ],
      "text/latex": [
       "\\begin{tabular}{r|llllllllllllll}\n",
       "  & CRIM & ZN & INDUS & CHAS & NOX & RM & AGE & DIS & RAD & TAX & PT & B & LSTAT & MV\\\\\n",
       "\\hline\n",
       "\t495 & 0.22438 & 0       &  9.69   & 0       & 0.585   & 6.027   & 79.7    & 2.4982  & 6       & 391     & 19.2    & 396.90  & 14.33   & 16.8   \\\\\n",
       "\t496 & 0.06263 & 0       & 11.93   & 0       & 0.573   & 6.593   & 69.1    & 2.4786  & 1       & 273     & 21.0    & 391.99  &  9.67   & 22.4   \\\\\n",
       "\t497 & 0.04527 & 0       & 11.93   & 0       & 0.573   & 6.120   & 76.7    & 2.2875  & 1       & 273     & 21.0    & 396.90  &  9.08   & 20.6   \\\\\n",
       "\t498 & 0.06076 & 0       & 11.93   & 0       &    NA   & 6.976   & 91.0    & 2.1675  & 1       & 273     & 21.0    & 396.90  &  5.64   & 23.9   \\\\\n",
       "\t499 & 0.10959 & 0       & 11.93   & 0       & 0.573   & 6.794   & 89.3    & 2.3889  & 1       & 273     & 21.0    & 393.45  &  6.48   & 22.0   \\\\\n",
       "\t500 & 0.04741 & 0       & 11.93   & 0       & 0.573   & 6.030   & 80.8    & 2.5050  & 1       & 273     & 21.0    & 396.90  &  7.88   & 11.9   \\\\\n",
       "\\end{tabular}\n"
      ],
      "text/markdown": [
       "\n",
       "| <!--/--> | CRIM | ZN | INDUS | CHAS | NOX | RM | AGE | DIS | RAD | TAX | PT | B | LSTAT | MV |\n",
       "|---|---|---|---|---|---|---|---|---|---|---|---|---|---|---|\n",
       "| 495 | 0.22438 | 0       |  9.69   | 0       | 0.585   | 6.027   | 79.7    | 2.4982  | 6       | 391     | 19.2    | 396.90  | 14.33   | 16.8    |\n",
       "| 496 | 0.06263 | 0       | 11.93   | 0       | 0.573   | 6.593   | 69.1    | 2.4786  | 1       | 273     | 21.0    | 391.99  |  9.67   | 22.4    |\n",
       "| 497 | 0.04527 | 0       | 11.93   | 0       | 0.573   | 6.120   | 76.7    | 2.2875  | 1       | 273     | 21.0    | 396.90  |  9.08   | 20.6    |\n",
       "| 498 | 0.06076 | 0       | 11.93   | 0       |    NA   | 6.976   | 91.0    | 2.1675  | 1       | 273     | 21.0    | 396.90  |  5.64   | 23.9    |\n",
       "| 499 | 0.10959 | 0       | 11.93   | 0       | 0.573   | 6.794   | 89.3    | 2.3889  | 1       | 273     | 21.0    | 393.45  |  6.48   | 22.0    |\n",
       "| 500 | 0.04741 | 0       | 11.93   | 0       | 0.573   | 6.030   | 80.8    | 2.5050  | 1       | 273     | 21.0    | 396.90  |  7.88   | 11.9    |\n",
       "\n"
      ],
      "text/plain": [
       "    CRIM    ZN INDUS CHAS NOX   RM    AGE  DIS    RAD TAX PT   B      LSTAT\n",
       "495 0.22438 0   9.69 0    0.585 6.027 79.7 2.4982 6   391 19.2 396.90 14.33\n",
       "496 0.06263 0  11.93 0    0.573 6.593 69.1 2.4786 1   273 21.0 391.99  9.67\n",
       "497 0.04527 0  11.93 0    0.573 6.120 76.7 2.2875 1   273 21.0 396.90  9.08\n",
       "498 0.06076 0  11.93 0       NA 6.976 91.0 2.1675 1   273 21.0 396.90  5.64\n",
       "499 0.10959 0  11.93 0    0.573 6.794 89.3 2.3889 1   273 21.0 393.45  6.48\n",
       "500 0.04741 0  11.93 0    0.573 6.030 80.8 2.5050 1   273 21.0 396.90  7.88\n",
       "    MV  \n",
       "495 16.8\n",
       "496 22.4\n",
       "497 20.6\n",
       "498 23.9\n",
       "499 22.0\n",
       "500 11.9"
      ]
     },
     "metadata": {},
     "output_type": "display_data"
    }
   ],
   "source": [
    "# display the last 6 rows\n",
    "tail(housing_data)"
   ]
  },
  {
   "cell_type": "code",
   "execution_count": 21,
   "metadata": {
    "scrolled": false
   },
   "outputs": [
    {
     "data": {
      "text/plain": [
       "      CRIM                ZN             INDUS         CHAS    \n",
       " Min.   : 0.00632   Min.   :  0.00   Min.   : 0.46   0   :460  \n",
       " 1st Qu.: 0.08199   1st Qu.:  0.00   1st Qu.: 5.19   1   : 35  \n",
       " Median : 0.26169   Median :  0.00   Median : 9.69   NA's:  5  \n",
       " Mean   : 3.65532   Mean   : 11.25   Mean   :11.12             \n",
       " 3rd Qu.: 3.67822   3rd Qu.: 12.50   3rd Qu.:18.10             \n",
       " Max.   :88.97620   Max.   :100.00   Max.   :27.74             \n",
       " NA's   :7          NA's   :7        NA's   :4                 \n",
       "      NOX               RM             AGE              DIS        \n",
       " Min.   :0.3850   Min.   :3.561   Min.   :  2.90   Min.   : 1.130  \n",
       " 1st Qu.:0.4482   1st Qu.:5.885   1st Qu.: 44.40   1st Qu.: 2.097  \n",
       " Median :0.5380   Median :6.209   Median : 77.70   Median : 3.191  \n",
       " Mean   :0.5538   Mean   :6.289   Mean   : 68.58   Mean   : 3.785  \n",
       " 3rd Qu.:0.6240   3rd Qu.:6.629   3rd Qu.: 94.10   3rd Qu.: 5.118  \n",
       " Max.   :0.8710   Max.   :8.780   Max.   :100.00   Max.   :12.127  \n",
       " NA's   :6        NA's   :4       NA's   :3        NA's   :4       \n",
       "      RAD           TAX              PT              B              LSTAT      \n",
       " 24     :129   Min.   :187.0   Min.   :12.60   Min.   :  0.32   Min.   : 1.73  \n",
       " 5      :111   1st Qu.:279.0   1st Qu.:17.40   1st Qu.:375.30   1st Qu.: 6.95  \n",
       " 4      :109   Median :330.0   Median :19.10   Median :391.34   Median :11.43  \n",
       " 3      : 36   Mean   :407.5   Mean   :18.47   Mean   :356.60   Mean   :12.65  \n",
       " 6      : 26   3rd Qu.:666.0   3rd Qu.:20.20   3rd Qu.:396.21   3rd Qu.:16.95  \n",
       " (Other): 84   Max.   :711.0   Max.   :22.00   Max.   :396.90   Max.   :37.97  \n",
       " NA's   :  5   NA's   :6       NA's   :9       NA's   :4        NA's   :6      \n",
       "       MV       \n",
       " Min.   : 5.00  \n",
       " 1st Qu.:17.07  \n",
       " Median :21.20  \n",
       " Mean   :22.56  \n",
       " 3rd Qu.:25.00  \n",
       " Max.   :50.00  \n",
       "                "
      ]
     },
     "metadata": {},
     "output_type": "display_data"
    }
   ],
   "source": [
    "# summary of the data\n",
    "summary(housing_data)"
   ]
  },
  {
   "cell_type": "markdown",
   "metadata": {},
   "source": [
    "# Data Pre-Processing"
   ]
  },
  {
   "cell_type": "markdown",
   "metadata": {},
   "source": [
    "\n",
    "### Sampling"
   ]
  },
  {
   "cell_type": "markdown",
   "metadata": {},
   "source": [
    "Stadford sampling is good for when data is more biased, Random Sampling is randomly picking"
   ]
  },
  {
   "cell_type": "code",
   "execution_count": 113,
   "metadata": {},
   "outputs": [],
   "source": [
    "set.seed(29)"
   ]
  },
  {
   "cell_type": "code",
   "execution_count": 114,
   "metadata": {},
   "outputs": [],
   "source": [
    "# pick row number randomly\n",
    "\n",
    "train_rows = sample(x=1:nrow(housing_data),size = 0.7*nrow(housing_data))\n"
   ]
  },
  {
   "cell_type": "code",
   "execution_count": 115,
   "metadata": {},
   "outputs": [],
   "source": [
    "# create train data and test data\n",
    "\n",
    "train_data = housing_data[train_rows,]\n",
    "test_data = housing_data[-train_rows,]"
   ]
  },
  {
   "cell_type": "code",
   "execution_count": 116,
   "metadata": {},
   "outputs": [],
   "source": [
    "# Create object that hold\n",
    "imputer_values = preProcess(x = train_data,method='medianImpute')"
   ]
  },
  {
   "cell_type": "code",
   "execution_count": 117,
   "metadata": {},
   "outputs": [
    {
     "data": {
      "text/html": [
       "52"
      ],
      "text/latex": [
       "52"
      ],
      "text/markdown": [
       "52"
      ],
      "text/plain": [
       "[1] 52"
      ]
     },
     "metadata": {},
     "output_type": "display_data"
    }
   ],
   "source": [
    "# number of NAs before imputing in train data\n",
    "sum(is.na(train_data))"
   ]
  },
  {
   "cell_type": "code",
   "execution_count": 118,
   "metadata": {},
   "outputs": [],
   "source": [
    "# imputing data\n",
    "train_data <- predict(object = imputer_values, newdata = train_data)"
   ]
  },
  {
   "cell_type": "code",
   "execution_count": 119,
   "metadata": {},
   "outputs": [
    {
     "data": {
      "text/html": [
       "7"
      ],
      "text/latex": [
       "7"
      ],
      "text/markdown": [
       "7"
      ],
      "text/plain": [
       "[1] 7"
      ]
     },
     "metadata": {},
     "output_type": "display_data"
    }
   ],
   "source": [
    "# number of NAs after imputing\n",
    "sum(is.na(train_data))"
   ]
  },
  {
   "cell_type": "code",
   "execution_count": 120,
   "metadata": {},
   "outputs": [
    {
     "data": {
      "text/html": [
       "18"
      ],
      "text/latex": [
       "18"
      ],
      "text/markdown": [
       "18"
      ],
      "text/plain": [
       "[1] 18"
      ]
     },
     "metadata": {},
     "output_type": "display_data"
    }
   ],
   "source": [
    "# number of NAs before imputing in test data\n",
    "sum(is.na(test_data))"
   ]
  },
  {
   "cell_type": "code",
   "execution_count": 121,
   "metadata": {},
   "outputs": [],
   "source": [
    "# imputing data\n",
    "test_data <- predict(object = imputer_values, newdata = test_data)"
   ]
  },
  {
   "cell_type": "code",
   "execution_count": 122,
   "metadata": {},
   "outputs": [
    {
     "data": {
      "text/html": [
       "3"
      ],
      "text/latex": [
       "3"
      ],
      "text/markdown": [
       "3"
      ],
      "text/plain": [
       "[1] 3"
      ]
     },
     "metadata": {},
     "output_type": "display_data"
    }
   ],
   "source": [
    "# number of NAs after imputing in test data\n",
    "sum(is.na(test_data))"
   ]
  },
  {
   "cell_type": "markdown",
   "metadata": {},
   "source": [
    "Imputing Categorical NA values"
   ]
  },
  {
   "cell_type": "code",
   "execution_count": 123,
   "metadata": {},
   "outputs": [
    {
     "name": "stderr",
     "output_type": "stream",
     "text": [
      "Warning message:\n",
      "\"package 'DMwR' was built under R version 3.6.2\"Loading required package: grid\n",
      "Registered S3 method overwritten by 'xts':\n",
      "  method     from\n",
      "  as.zoo.xts zoo \n",
      "Registered S3 method overwritten by 'quantmod':\n",
      "  method            from\n",
      "  as.zoo.data.frame zoo \n"
     ]
    }
   ],
   "source": [
    "library(DMwR)"
   ]
  },
  {
   "cell_type": "code",
   "execution_count": 125,
   "metadata": {},
   "outputs": [],
   "source": [
    "# Replacing the categorical with mode in categorical and median in numeric\n",
    "train_data = centralImputation(train_data)\n",
    "test_data = centralImputation(test_data)"
   ]
  },
  {
   "cell_type": "markdown",
   "metadata": {},
   "source": [
    "## EDA"
   ]
  },
  {
   "cell_type": "code",
   "execution_count": 126,
   "metadata": {},
   "outputs": [],
   "source": [
    "par(mfrow = c(2,2))\n",
    "\n",
    "plot(housing_data$LSTAT, housing_data$MV, ylab = )"
   ]
  },
  {
   "cell_type": "code",
   "execution_count": 130,
   "metadata": {},
   "outputs": [
    {
     "ename": "ERROR",
     "evalue": "Error in cor(housing_data): 'x' must be numeric\n",
     "output_type": "error",
     "traceback": [
      "Error in cor(housing_data): 'x' must be numeric\nTraceback:\n",
      "1. cor(housing_data)",
      "2. stop(\"'x' must be numeric\")"
     ]
    }
   ],
   "source": [
    "cor(housing_data)"
   ]
  },
  {
   "cell_type": "code",
   "execution_count": 159,
   "metadata": {},
   "outputs": [],
   "source": [
    "num_only = lapply(train_data,is.numeric)\n",
    "numeric_cols = names(num_only[num_only==TRUE])\n",
    "categ_cols = names(num_only[num_only==FALSE])\n"
   ]
  },
  {
   "cell_type": "code",
   "execution_count": 160,
   "metadata": {},
   "outputs": [
    {
     "data": {
      "text/html": [
       "<ol class=list-inline>\n",
       "\t<li>'CRIM'</li>\n",
       "\t<li>'ZN'</li>\n",
       "\t<li>'INDUS'</li>\n",
       "\t<li>'NOX'</li>\n",
       "\t<li>'RM'</li>\n",
       "\t<li>'AGE'</li>\n",
       "\t<li>'DIS'</li>\n",
       "\t<li>'TAX'</li>\n",
       "\t<li>'PT'</li>\n",
       "\t<li>'B'</li>\n",
       "\t<li>'LSTAT'</li>\n",
       "\t<li>'MV'</li>\n",
       "</ol>\n"
      ],
      "text/latex": [
       "\\begin{enumerate*}\n",
       "\\item 'CRIM'\n",
       "\\item 'ZN'\n",
       "\\item 'INDUS'\n",
       "\\item 'NOX'\n",
       "\\item 'RM'\n",
       "\\item 'AGE'\n",
       "\\item 'DIS'\n",
       "\\item 'TAX'\n",
       "\\item 'PT'\n",
       "\\item 'B'\n",
       "\\item 'LSTAT'\n",
       "\\item 'MV'\n",
       "\\end{enumerate*}\n"
      ],
      "text/markdown": [
       "1. 'CRIM'\n",
       "2. 'ZN'\n",
       "3. 'INDUS'\n",
       "4. 'NOX'\n",
       "5. 'RM'\n",
       "6. 'AGE'\n",
       "7. 'DIS'\n",
       "8. 'TAX'\n",
       "9. 'PT'\n",
       "10. 'B'\n",
       "11. 'LSTAT'\n",
       "12. 'MV'\n",
       "\n",
       "\n"
      ],
      "text/plain": [
       " [1] \"CRIM\"  \"ZN\"    \"INDUS\" \"NOX\"   \"RM\"    \"AGE\"   \"DIS\"   \"TAX\"   \"PT\"   \n",
       "[10] \"B\"     \"LSTAT\" \"MV\"   "
      ]
     },
     "metadata": {},
     "output_type": "display_data"
    }
   ],
   "source": [
    "numeric_cols"
   ]
  },
  {
   "cell_type": "code",
   "execution_count": 161,
   "metadata": {},
   "outputs": [
    {
     "data": {
      "text/html": [
       "<ol class=list-inline>\n",
       "\t<li>'CHAS'</li>\n",
       "\t<li>'RAD'</li>\n",
       "</ol>\n"
      ],
      "text/latex": [
       "\\begin{enumerate*}\n",
       "\\item 'CHAS'\n",
       "\\item 'RAD'\n",
       "\\end{enumerate*}\n"
      ],
      "text/markdown": [
       "1. 'CHAS'\n",
       "2. 'RAD'\n",
       "\n",
       "\n"
      ],
      "text/plain": [
       "[1] \"CHAS\" \"RAD\" "
      ]
     },
     "metadata": {},
     "output_type": "display_data"
    }
   ],
   "source": [
    "categ_cols"
   ]
  },
  {
   "cell_type": "code",
   "execution_count": 131,
   "metadata": {
    "scrolled": true
   },
   "outputs": [
    {
     "name": "stderr",
     "output_type": "stream",
     "text": [
      "Warning message:\n",
      "\"package 'corrplot' was built under R version 3.6.2\"corrplot 0.84 loaded\n"
     ]
    }
   ],
   "source": [
    "library(corrplot)"
   ]
  },
  {
   "cell_type": "code",
   "execution_count": 172,
   "metadata": {},
   "outputs": [
    {
     "data": {
      "image/png": "[encoded data removed]",
      "text/plain": [
       "Plot with title \"\""
      ]
     },
     "metadata": {},
     "output_type": "display_data"
    }
   ],
   "source": [
    "corrplot(cor(housing_data[,numeric_cols],use = \"complete.obs\"),method = \"number\")"
   ]
  },
  {
   "cell_type": "markdown",
   "metadata": {},
   "source": [
    "### Standardize the data"
   ]
  },
  {
   "cell_type": "code",
   "execution_count": 174,
   "metadata": {},
   "outputs": [],
   "source": [
    "std_model <- preProcess(train_data[,numeric_cols], method = c('center','scale'))"
   ]
  },
  {
   "cell_type": "code",
   "execution_count": 175,
   "metadata": {},
   "outputs": [],
   "source": [
    "train_data[,numeric_cols] <- predict(object = std_model,newdata = train_data[,numeric_cols])\n",
    "test_data[,numeric_cols] <- predict(object = std_model,newdata = test_data[,numeric_cols])"
   ]
  },
  {
   "cell_type": "code",
   "execution_count": 176,
   "metadata": {},
   "outputs": [
    {
     "data": {
      "text/plain": [
       "      CRIM                ZN               INDUS          CHAS   \n",
       " Min.   :-0.40269   Min.   :-0.46014   Min.   :-1.58432   0:143  \n",
       " 1st Qu.:-0.39335   1st Qu.:-0.46014   1st Qu.:-0.91825   1:  7  \n",
       " Median :-0.37362   Median :-0.46014   Median :-0.22418          \n",
       " Mean   : 0.05226   Mean   : 0.09661   Mean   :-0.04811          \n",
       " 3rd Qu.: 0.02199   3rd Qu.: 0.39991   3rd Qu.: 1.01513          \n",
       " Max.   : 8.13899   Max.   : 3.50929   Max.   : 2.43568          \n",
       "                                                                 \n",
       "      NOX                 RM                AGE                DIS          \n",
       " Min.   :-1.47734   Min.   :-3.07673   Min.   :-2.08188   Min.   :-1.29755  \n",
       " 1st Qu.:-0.91940   1st Qu.:-0.59997   1st Qu.:-0.78168   1st Qu.:-0.83784  \n",
       " Median :-0.17476   Median : 0.03485   Median : 0.20613   Median :-0.21455  \n",
       " Mean   :-0.04277   Mean   :-0.01554   Mean   : 0.01134   Mean   : 0.08543  \n",
       " 3rd Qu.: 0.59810   3rd Qu.: 0.54249   3rd Qu.: 0.87194   3rd Qu.: 0.93523  \n",
       " Max.   : 2.74300   Max.   : 2.86635   Max.   : 1.09795   Max.   : 4.19327  \n",
       "                                                                            \n",
       "      RAD          TAX                 PT                 B           \n",
       " 24     :42   Min.   :-1.29298   Min.   :-2.70045   Min.   :-4.40338  \n",
       " 4      :33   1st Qu.:-0.68987   1st Qu.:-0.49814   1st Qu.: 0.01475  \n",
       " 5      :25   Median :-0.43482   Median : 0.07538   Median : 0.33348  \n",
       " 8      :12   Mean   : 0.08207   Mean   :-0.01302   Mean   :-0.25202  \n",
       " 3      :10   3rd Qu.: 1.58155   3rd Qu.: 0.78654   3rd Qu.: 0.38980  \n",
       " 6      :10   Max.   : 1.85160   Max.   : 1.24536   Max.   : 0.41013  \n",
       " (Other):18                                                           \n",
       "     LSTAT                MV          \n",
       " Min.   :-1.38848   Min.   :-1.87224  \n",
       " 1st Qu.:-0.82046   1st Qu.:-0.72755  \n",
       " Median :-0.04377   Median :-0.22607  \n",
       " Mean   : 0.11907   Mean   :-0.07606  \n",
       " 3rd Qu.: 0.70009   3rd Qu.: 0.24270  \n",
       " Max.   : 3.58908   Max.   : 2.96815  \n",
       "                                      "
      ]
     },
     "metadata": {},
     "output_type": "display_data"
    }
   ],
   "source": [
    "summary(test_data)"
   ]
  },
  {
   "cell_type": "markdown",
   "metadata": {},
   "source": [
    "## Model the Data"
   ]
  },
  {
   "cell_type": "code",
   "execution_count": 177,
   "metadata": {},
   "outputs": [],
   "source": [
    "model_basic <- lm(formula = MV~. , data = train_data)"
   ]
  },
  {
   "cell_type": "code",
   "execution_count": 178,
   "metadata": {},
   "outputs": [
    {
     "data": {
      "text/plain": [
       "\n",
       "Call:\n",
       "lm(formula = MV ~ ., data = train_data)\n",
       "\n",
       "Residuals:\n",
       "     Min       1Q   Median       3Q      Max \n",
       "-2.00362 -0.28551 -0.06842  0.16766  2.77182 \n",
       "\n",
       "Coefficients:\n",
       "             Estimate Std. Error t value Pr(>|t|)    \n",
       "(Intercept) -0.509385   0.148023  -3.441 0.000654 ***\n",
       "CRIM        -0.119280   0.034902  -3.418 0.000711 ***\n",
       "ZN           0.118465   0.039389   3.008 0.002836 ** \n",
       "INDUS        0.002647   0.051853   0.051 0.959321    \n",
       "CHAS1        0.281016   0.103716   2.709 0.007092 ** \n",
       "NOX         -0.161590   0.056231  -2.874 0.004321 ** \n",
       "RM           0.367021   0.037614   9.758  < 2e-16 ***\n",
       "AGE         -0.047809   0.045534  -1.050 0.294505    \n",
       "DIS         -0.315555   0.053503  -5.898 9.14e-09 ***\n",
       "RAD2         0.357544   0.188520   1.897 0.058759 .  \n",
       "RAD3         0.600917   0.175943   3.415 0.000717 ***\n",
       "RAD4         0.374944   0.154658   2.424 0.015874 *  \n",
       "RAD5         0.414868   0.157483   2.634 0.008828 ** \n",
       "RAD6         0.199538   0.194525   1.026 0.305753    \n",
       "RAD7         0.627042   0.210879   2.973 0.003162 ** \n",
       "RAD8         0.712048   0.215977   3.297 0.001084 ** \n",
       "RAD24        0.716329   0.205423   3.487 0.000555 ***\n",
       "TAX         -0.067679   0.070044  -0.966 0.334636    \n",
       "PT          -0.173778   0.038404  -4.525 8.45e-06 ***\n",
       "B            0.109833   0.030305   3.624 0.000336 ***\n",
       "LSTAT       -0.374017   0.044477  -8.409 1.27e-15 ***\n",
       "---\n",
       "Signif. codes:  0 '***' 0.001 '**' 0.01 '*' 0.05 '.' 0.1 ' ' 1\n",
       "\n",
       "Residual standard error: 0.5023 on 329 degrees of freedom\n",
       "Multiple R-squared:  0.7622,\tAdjusted R-squared:  0.7477 \n",
       "F-statistic: 52.72 on 20 and 329 DF,  p-value: < 2.2e-16\n"
      ]
     },
     "metadata": {},
     "output_type": "display_data"
    }
   ],
   "source": [
    "summary(model_basic)"
   ]
  },
  {
   "cell_type": "code",
   "execution_count": null,
   "metadata": {},
   "outputs": [],
   "source": []
  }
 ],
 "metadata": {
  "kernelspec": {
   "display_name": "R",
   "language": "R",
   "name": "ir"
  },
  "language_info": {
   "codemirror_mode": "r",
   "file_extension": ".r",
   "mimetype": "text/x-r-source",
   "name": "R",
   "pygments_lexer": "r",
   "version": "3.6.1"
  }
 },
 "nbformat": 4,
 "nbformat_minor": 2
}
